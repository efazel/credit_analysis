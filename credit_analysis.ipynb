{
 "cells": [
  {
   "cell_type": "markdown",
   "metadata": {},
   "source": [
    "# Credit Analysis\n",
    "by Ehsan Fazel"
   ]
  },
  {
   "cell_type": "markdown",
   "metadata": {},
   "source": [
    "## Data Preprocessing: Examine the Dataset "
   ]
  },
  {
   "cell_type": "markdown",
   "metadata": {},
   "source": [
    "In this document, I preprocess the data to be used in the future for calculating the probability of default (PD) model. I start by examining the dataset, splitting it into train and test set. And then I move on to calculate and visualize Weight of Evidence (WoE). This procedure is done both for discrete and continuous variables. At the end of the document, I go back and repeat the whole process for the test set and save the results."
   ]
  },
  {
   "cell_type": "code",
   "execution_count": null,
   "metadata": {},
   "outputs": [],
   "source": [
    "import numpy as np\n",
    "import pandas as pd\n",
    "import sklearn \n",
    "from sklearn import linear_model\n",
    "from sklearn.utils import shuffle"
   ]
  },
  {
   "cell_type": "code",
   "execution_count": 72,
   "metadata": {},
   "outputs": [],
   "source": [
    "backup_data = pd.read_csv('loan_final313.csv')\n",
    "dt_loan = backup_data.copy()"
   ]
  },
  {
   "cell_type": "code",
   "execution_count": 73,
   "metadata": {},
   "outputs": [
    {
     "data": {
      "text/html": [
       "<div>\n",
       "<style scoped>\n",
       "    .dataframe tbody tr th:only-of-type {\n",
       "        vertical-align: middle;\n",
       "    }\n",
       "\n",
       "    .dataframe tbody tr th {\n",
       "        vertical-align: top;\n",
       "    }\n",
       "\n",
       "    .dataframe thead th {\n",
       "        text-align: right;\n",
       "    }\n",
       "</style>\n",
       "<table border=\"1\" class=\"dataframe\">\n",
       "  <thead>\n",
       "    <tr style=\"text-align: right;\">\n",
       "      <th></th>\n",
       "      <th>id</th>\n",
       "      <th>year</th>\n",
       "      <th>issue_d</th>\n",
       "      <th>final_d</th>\n",
       "      <th>emp_length_int</th>\n",
       "      <th>home_ownership</th>\n",
       "      <th>home_ownership_cat</th>\n",
       "      <th>income_category</th>\n",
       "      <th>annual_inc</th>\n",
       "      <th>income_cat</th>\n",
       "      <th>...</th>\n",
       "      <th>loan_condition_cat</th>\n",
       "      <th>interest_rate</th>\n",
       "      <th>grade</th>\n",
       "      <th>grade_cat</th>\n",
       "      <th>dti</th>\n",
       "      <th>total_pymnt</th>\n",
       "      <th>total_rec_prncp</th>\n",
       "      <th>recoveries</th>\n",
       "      <th>installment</th>\n",
       "      <th>region</th>\n",
       "    </tr>\n",
       "  </thead>\n",
       "  <tbody>\n",
       "    <tr>\n",
       "      <th>0</th>\n",
       "      <td>1077501</td>\n",
       "      <td>2011</td>\n",
       "      <td>01/12/2011</td>\n",
       "      <td>1012015</td>\n",
       "      <td>10.0</td>\n",
       "      <td>RENT</td>\n",
       "      <td>1</td>\n",
       "      <td>Low</td>\n",
       "      <td>24000</td>\n",
       "      <td>1</td>\n",
       "      <td>...</td>\n",
       "      <td>0</td>\n",
       "      <td>10.65</td>\n",
       "      <td>B</td>\n",
       "      <td>2</td>\n",
       "      <td>27.65</td>\n",
       "      <td>5861.071414</td>\n",
       "      <td>5000.00</td>\n",
       "      <td>0.00</td>\n",
       "      <td>162.87</td>\n",
       "      <td>munster</td>\n",
       "    </tr>\n",
       "    <tr>\n",
       "      <th>1</th>\n",
       "      <td>1077430</td>\n",
       "      <td>2011</td>\n",
       "      <td>01/12/2011</td>\n",
       "      <td>1042013</td>\n",
       "      <td>0.5</td>\n",
       "      <td>RENT</td>\n",
       "      <td>1</td>\n",
       "      <td>Low</td>\n",
       "      <td>30000</td>\n",
       "      <td>1</td>\n",
       "      <td>...</td>\n",
       "      <td>1</td>\n",
       "      <td>15.27</td>\n",
       "      <td>C</td>\n",
       "      <td>3</td>\n",
       "      <td>1.00</td>\n",
       "      <td>1008.710000</td>\n",
       "      <td>456.46</td>\n",
       "      <td>117.08</td>\n",
       "      <td>59.83</td>\n",
       "      <td>leinster</td>\n",
       "    </tr>\n",
       "    <tr>\n",
       "      <th>2</th>\n",
       "      <td>1077175</td>\n",
       "      <td>2011</td>\n",
       "      <td>01/12/2011</td>\n",
       "      <td>1062014</td>\n",
       "      <td>10.0</td>\n",
       "      <td>RENT</td>\n",
       "      <td>1</td>\n",
       "      <td>Low</td>\n",
       "      <td>12252</td>\n",
       "      <td>1</td>\n",
       "      <td>...</td>\n",
       "      <td>0</td>\n",
       "      <td>15.96</td>\n",
       "      <td>C</td>\n",
       "      <td>3</td>\n",
       "      <td>8.72</td>\n",
       "      <td>3003.653644</td>\n",
       "      <td>2400.00</td>\n",
       "      <td>0.00</td>\n",
       "      <td>84.33</td>\n",
       "      <td>cannught</td>\n",
       "    </tr>\n",
       "    <tr>\n",
       "      <th>3</th>\n",
       "      <td>1076863</td>\n",
       "      <td>2011</td>\n",
       "      <td>01/12/2011</td>\n",
       "      <td>1012015</td>\n",
       "      <td>10.0</td>\n",
       "      <td>RENT</td>\n",
       "      <td>1</td>\n",
       "      <td>Low</td>\n",
       "      <td>49200</td>\n",
       "      <td>1</td>\n",
       "      <td>...</td>\n",
       "      <td>0</td>\n",
       "      <td>13.49</td>\n",
       "      <td>C</td>\n",
       "      <td>3</td>\n",
       "      <td>20.00</td>\n",
       "      <td>12226.302210</td>\n",
       "      <td>10000.00</td>\n",
       "      <td>0.00</td>\n",
       "      <td>339.31</td>\n",
       "      <td>ulster</td>\n",
       "    </tr>\n",
       "    <tr>\n",
       "      <th>4</th>\n",
       "      <td>1075358</td>\n",
       "      <td>2011</td>\n",
       "      <td>01/12/2011</td>\n",
       "      <td>1012016</td>\n",
       "      <td>1.0</td>\n",
       "      <td>RENT</td>\n",
       "      <td>1</td>\n",
       "      <td>Low</td>\n",
       "      <td>80000</td>\n",
       "      <td>1</td>\n",
       "      <td>...</td>\n",
       "      <td>0</td>\n",
       "      <td>12.69</td>\n",
       "      <td>B</td>\n",
       "      <td>2</td>\n",
       "      <td>17.94</td>\n",
       "      <td>3242.170000</td>\n",
       "      <td>2233.10</td>\n",
       "      <td>0.00</td>\n",
       "      <td>67.79</td>\n",
       "      <td>ulster</td>\n",
       "    </tr>\n",
       "  </tbody>\n",
       "</table>\n",
       "<p>5 rows × 30 columns</p>\n",
       "</div>"
      ],
      "text/plain": [
       "        id  year     issue_d  final_d  emp_length_int home_ownership  \\\n",
       "0  1077501  2011  01/12/2011  1012015            10.0           RENT   \n",
       "1  1077430  2011  01/12/2011  1042013             0.5           RENT   \n",
       "2  1077175  2011  01/12/2011  1062014            10.0           RENT   \n",
       "3  1076863  2011  01/12/2011  1012015            10.0           RENT   \n",
       "4  1075358  2011  01/12/2011  1012016             1.0           RENT   \n",
       "\n",
       "   home_ownership_cat income_category  annual_inc  income_cat  ...  \\\n",
       "0                   1             Low       24000           1  ...   \n",
       "1                   1             Low       30000           1  ...   \n",
       "2                   1             Low       12252           1  ...   \n",
       "3                   1             Low       49200           1  ...   \n",
       "4                   1             Low       80000           1  ...   \n",
       "\n",
       "   loan_condition_cat interest_rate  grade grade_cat    dti   total_pymnt  \\\n",
       "0                   0         10.65      B         2  27.65   5861.071414   \n",
       "1                   1         15.27      C         3   1.00   1008.710000   \n",
       "2                   0         15.96      C         3   8.72   3003.653644   \n",
       "3                   0         13.49      C         3  20.00  12226.302210   \n",
       "4                   0         12.69      B         2  17.94   3242.170000   \n",
       "\n",
       "   total_rec_prncp recoveries  installment    region  \n",
       "0          5000.00       0.00       162.87   munster  \n",
       "1           456.46     117.08        59.83  leinster  \n",
       "2          2400.00       0.00        84.33  cannught  \n",
       "3         10000.00       0.00       339.31    ulster  \n",
       "4          2233.10       0.00        67.79    ulster  \n",
       "\n",
       "[5 rows x 30 columns]"
      ]
     },
     "execution_count": 73,
     "metadata": {},
     "output_type": "execute_result"
    }
   ],
   "source": [
    "dt_loan.head()"
   ]
  },
  {
   "cell_type": "code",
   "execution_count": 74,
   "metadata": {},
   "outputs": [
    {
     "name": "stdout",
     "output_type": "stream",
     "text": [
      "<class 'pandas.core.frame.DataFrame'>\n",
      "RangeIndex: 887379 entries, 0 to 887378\n",
      "Data columns (total 30 columns):\n",
      " #   Column                Non-Null Count   Dtype  \n",
      "---  ------                --------------   -----  \n",
      " 0   id                    887379 non-null  int64  \n",
      " 1   year                  887379 non-null  int64  \n",
      " 2   issue_d               887379 non-null  object \n",
      " 3   final_d               887379 non-null  int64  \n",
      " 4   emp_length_int        887379 non-null  float64\n",
      " 5   home_ownership        887379 non-null  object \n",
      " 6   home_ownership_cat    887379 non-null  int64  \n",
      " 7   income_category       887379 non-null  object \n",
      " 8   annual_inc            887379 non-null  int64  \n",
      " 9   income_cat            887379 non-null  int64  \n",
      " 10  loan_amount           887379 non-null  int64  \n",
      " 11  term                  887379 non-null  object \n",
      " 12  term_cat              887379 non-null  int64  \n",
      " 13  application_type      887379 non-null  object \n",
      " 14  application_type_cat  887379 non-null  int64  \n",
      " 15  purpose               887379 non-null  object \n",
      " 16  purpose_cat           887379 non-null  int64  \n",
      " 17  interest_payments     887379 non-null  object \n",
      " 18  interest_payment_cat  887379 non-null  int64  \n",
      " 19  loan_condition        887379 non-null  object \n",
      " 20  loan_condition_cat    887379 non-null  int64  \n",
      " 21  interest_rate         887379 non-null  float64\n",
      " 22  grade                 887379 non-null  object \n",
      " 23  grade_cat             887379 non-null  int64  \n",
      " 24  dti                   887379 non-null  float64\n",
      " 25  total_pymnt           887379 non-null  float64\n",
      " 26  total_rec_prncp       887379 non-null  float64\n",
      " 27  recoveries            887379 non-null  float64\n",
      " 28  installment           887379 non-null  float64\n",
      " 29  region                887379 non-null  object \n",
      "dtypes: float64(7), int64(13), object(10)\n",
      "memory usage: 203.1+ MB\n"
     ]
    }
   ],
   "source": [
    "dt_loan.info()"
   ]
  },
  {
   "cell_type": "code",
   "execution_count": 76,
   "metadata": {},
   "outputs": [
    {
     "data": {
      "text/plain": [
       "pandas.core.frame.DataFrame"
      ]
     },
     "execution_count": 76,
     "metadata": {},
     "output_type": "execute_result"
    }
   ],
   "source": [
    "type(dt_loan)"
   ]
  },
  {
   "cell_type": "code",
   "execution_count": 40,
   "metadata": {},
   "outputs": [
    {
     "data": {
      "text/plain": [
       "array([10.  ,  0.5 ,  1.  ,  3.  ,  8.  ,  9.  ,  4.  ,  5.  ,  6.  ,\n",
       "        2.  ,  7.  ,  6.05])"
      ]
     },
     "execution_count": 40,
     "metadata": {},
     "output_type": "execute_result"
    }
   ],
   "source": [
    "dt_loan['emp_length_int'].unique()"
   ]
  },
  {
   "cell_type": "code",
   "execution_count": 41,
   "metadata": {},
   "outputs": [
    {
     "data": {
      "text/plain": [
       "numpy.float64"
      ]
     },
     "execution_count": 41,
     "metadata": {},
     "output_type": "execute_result"
    }
   ],
   "source": [
    "type(dt_loan['emp_length_int'][0])"
   ]
  },
  {
   "cell_type": "code",
   "execution_count": 42,
   "metadata": {},
   "outputs": [
    {
     "data": {
      "text/plain": [
       "0          36 months\n",
       "1          60 months\n",
       "2          36 months\n",
       "3          36 months\n",
       "4          60 months\n",
       "             ...    \n",
       "887374     36 months\n",
       "887375     36 months\n",
       "887376     60 months\n",
       "887377     60 months\n",
       "887378     36 months\n",
       "Name: term, Length: 887379, dtype: object"
      ]
     },
     "execution_count": 42,
     "metadata": {},
     "output_type": "execute_result"
    }
   ],
   "source": [
    "dt_loan['term']"
   ]
  },
  {
   "cell_type": "code",
   "execution_count": 43,
   "metadata": {},
   "outputs": [
    {
     "data": {
      "text/plain": [
       "count         887379\n",
       "unique             2\n",
       "top        36 months\n",
       "freq          621125\n",
       "Name: term, dtype: object"
      ]
     },
     "execution_count": 43,
     "metadata": {},
     "output_type": "execute_result"
    }
   ],
   "source": [
    "dt_loan['term'].describe()"
   ]
  },
  {
   "cell_type": "code",
   "execution_count": 44,
   "metadata": {},
   "outputs": [
    {
     "data": {
      "text/plain": [
       "0          36\n",
       "1          60\n",
       "2          36\n",
       "3          36\n",
       "4          60\n",
       "         ... \n",
       "887374     36\n",
       "887375     36\n",
       "887376     60\n",
       "887377     60\n",
       "887378     36\n",
       "Name: term_int, Length: 887379, dtype: object"
      ]
     },
     "execution_count": 44,
     "metadata": {},
     "output_type": "execute_result"
    }
   ],
   "source": [
    "# convert term into integer. replace months with blank\n",
    "dt_loan['term_int'] = dt_loan['term'].str.replace(' months', '')\n",
    "dt_loan['term_int']"
   ]
  },
  {
   "cell_type": "code",
   "execution_count": 45,
   "metadata": {},
   "outputs": [
    {
     "data": {
      "text/plain": [
       "0         36\n",
       "1         60\n",
       "2         36\n",
       "3         36\n",
       "4         60\n",
       "          ..\n",
       "887374    36\n",
       "887375    36\n",
       "887376    60\n",
       "887377    60\n",
       "887378    36\n",
       "Name: term_int, Length: 887379, dtype: int64"
      ]
     },
     "execution_count": 45,
     "metadata": {},
     "output_type": "execute_result"
    }
   ],
   "source": [
    "dt_loan['term_int'] = pd.to_numeric(dt_loan['term'].str.replace(' months', ''))\n",
    "dt_loan['term_int']"
   ]
  },
  {
   "cell_type": "code",
   "execution_count": 46,
   "metadata": {},
   "outputs": [
    {
     "data": {
      "text/plain": [
       "0         01/12/2011\n",
       "1         01/12/2011\n",
       "2         01/12/2011\n",
       "3         01/12/2011\n",
       "4         01/12/2011\n",
       "             ...    \n",
       "887374    01/01/2015\n",
       "887375    01/01/2015\n",
       "887376    01/01/2015\n",
       "887377    01/01/2015\n",
       "887378    01/01/2015\n",
       "Name: issue_d, Length: 887379, dtype: object"
      ]
     },
     "execution_count": 46,
     "metadata": {},
     "output_type": "execute_result"
    }
   ],
   "source": [
    "dt_loan['issue_d']"
   ]
  },
  {
   "cell_type": "code",
   "execution_count": 47,
   "metadata": {},
   "outputs": [],
   "source": [
    "dt_loan['issue_d_date'] = pd.to_datetime(dt_loan['issue_d'], format = '%d/%m/%Y')"
   ]
  },
  {
   "cell_type": "code",
   "execution_count": 48,
   "metadata": {},
   "outputs": [
    {
     "data": {
      "text/plain": [
       "0        2011-12-01\n",
       "1        2011-12-01\n",
       "2        2011-12-01\n",
       "3        2011-12-01\n",
       "4        2011-12-01\n",
       "            ...    \n",
       "887374   2015-01-01\n",
       "887375   2015-01-01\n",
       "887376   2015-01-01\n",
       "887377   2015-01-01\n",
       "887378   2015-01-01\n",
       "Name: issue_d_date, Length: 887379, dtype: datetime64[ns]"
      ]
     },
     "execution_count": 48,
     "metadata": {},
     "output_type": "execute_result"
    }
   ],
   "source": [
    "dt_loan['issue_d_date']"
   ]
  },
  {
   "cell_type": "markdown",
   "metadata": {},
   "source": [
    "### Preprocessing discrete variables"
   ]
  },
  {
   "cell_type": "code",
   "execution_count": 49,
   "metadata": {},
   "outputs": [
    {
     "data": {
      "text/plain": [
       "0         B\n",
       "1         C\n",
       "2         C\n",
       "3         C\n",
       "4         B\n",
       "         ..\n",
       "887374    B\n",
       "887375    B\n",
       "887376    D\n",
       "887377    E\n",
       "887378    B\n",
       "Name: grade, Length: 887379, dtype: object"
      ]
     },
     "execution_count": 49,
     "metadata": {},
     "output_type": "execute_result"
    }
   ],
   "source": [
    "dt_loan['grade']"
   ]
  },
  {
   "cell_type": "code",
   "execution_count": 50,
   "metadata": {},
   "outputs": [
    {
     "data": {
      "text/html": [
       "<div>\n",
       "<style scoped>\n",
       "    .dataframe tbody tr th:only-of-type {\n",
       "        vertical-align: middle;\n",
       "    }\n",
       "\n",
       "    .dataframe tbody tr th {\n",
       "        vertical-align: top;\n",
       "    }\n",
       "\n",
       "    .dataframe thead th {\n",
       "        text-align: right;\n",
       "    }\n",
       "</style>\n",
       "<table border=\"1\" class=\"dataframe\">\n",
       "  <thead>\n",
       "    <tr style=\"text-align: right;\">\n",
       "      <th></th>\n",
       "      <th>A</th>\n",
       "      <th>B</th>\n",
       "      <th>C</th>\n",
       "      <th>D</th>\n",
       "      <th>E</th>\n",
       "      <th>F</th>\n",
       "      <th>G</th>\n",
       "    </tr>\n",
       "  </thead>\n",
       "  <tbody>\n",
       "    <tr>\n",
       "      <th>0</th>\n",
       "      <td>0</td>\n",
       "      <td>1</td>\n",
       "      <td>0</td>\n",
       "      <td>0</td>\n",
       "      <td>0</td>\n",
       "      <td>0</td>\n",
       "      <td>0</td>\n",
       "    </tr>\n",
       "    <tr>\n",
       "      <th>1</th>\n",
       "      <td>0</td>\n",
       "      <td>0</td>\n",
       "      <td>1</td>\n",
       "      <td>0</td>\n",
       "      <td>0</td>\n",
       "      <td>0</td>\n",
       "      <td>0</td>\n",
       "    </tr>\n",
       "    <tr>\n",
       "      <th>2</th>\n",
       "      <td>0</td>\n",
       "      <td>0</td>\n",
       "      <td>1</td>\n",
       "      <td>0</td>\n",
       "      <td>0</td>\n",
       "      <td>0</td>\n",
       "      <td>0</td>\n",
       "    </tr>\n",
       "    <tr>\n",
       "      <th>3</th>\n",
       "      <td>0</td>\n",
       "      <td>0</td>\n",
       "      <td>1</td>\n",
       "      <td>0</td>\n",
       "      <td>0</td>\n",
       "      <td>0</td>\n",
       "      <td>0</td>\n",
       "    </tr>\n",
       "    <tr>\n",
       "      <th>4</th>\n",
       "      <td>0</td>\n",
       "      <td>1</td>\n",
       "      <td>0</td>\n",
       "      <td>0</td>\n",
       "      <td>0</td>\n",
       "      <td>0</td>\n",
       "      <td>0</td>\n",
       "    </tr>\n",
       "    <tr>\n",
       "      <th>...</th>\n",
       "      <td>...</td>\n",
       "      <td>...</td>\n",
       "      <td>...</td>\n",
       "      <td>...</td>\n",
       "      <td>...</td>\n",
       "      <td>...</td>\n",
       "      <td>...</td>\n",
       "    </tr>\n",
       "    <tr>\n",
       "      <th>887374</th>\n",
       "      <td>0</td>\n",
       "      <td>1</td>\n",
       "      <td>0</td>\n",
       "      <td>0</td>\n",
       "      <td>0</td>\n",
       "      <td>0</td>\n",
       "      <td>0</td>\n",
       "    </tr>\n",
       "    <tr>\n",
       "      <th>887375</th>\n",
       "      <td>0</td>\n",
       "      <td>1</td>\n",
       "      <td>0</td>\n",
       "      <td>0</td>\n",
       "      <td>0</td>\n",
       "      <td>0</td>\n",
       "      <td>0</td>\n",
       "    </tr>\n",
       "    <tr>\n",
       "      <th>887376</th>\n",
       "      <td>0</td>\n",
       "      <td>0</td>\n",
       "      <td>0</td>\n",
       "      <td>1</td>\n",
       "      <td>0</td>\n",
       "      <td>0</td>\n",
       "      <td>0</td>\n",
       "    </tr>\n",
       "    <tr>\n",
       "      <th>887377</th>\n",
       "      <td>0</td>\n",
       "      <td>0</td>\n",
       "      <td>0</td>\n",
       "      <td>0</td>\n",
       "      <td>1</td>\n",
       "      <td>0</td>\n",
       "      <td>0</td>\n",
       "    </tr>\n",
       "    <tr>\n",
       "      <th>887378</th>\n",
       "      <td>0</td>\n",
       "      <td>1</td>\n",
       "      <td>0</td>\n",
       "      <td>0</td>\n",
       "      <td>0</td>\n",
       "      <td>0</td>\n",
       "      <td>0</td>\n",
       "    </tr>\n",
       "  </tbody>\n",
       "</table>\n",
       "<p>887379 rows × 7 columns</p>\n",
       "</div>"
      ],
      "text/plain": [
       "        A  B  C  D  E  F  G\n",
       "0       0  1  0  0  0  0  0\n",
       "1       0  0  1  0  0  0  0\n",
       "2       0  0  1  0  0  0  0\n",
       "3       0  0  1  0  0  0  0\n",
       "4       0  1  0  0  0  0  0\n",
       "...    .. .. .. .. .. .. ..\n",
       "887374  0  1  0  0  0  0  0\n",
       "887375  0  1  0  0  0  0  0\n",
       "887376  0  0  0  1  0  0  0\n",
       "887377  0  0  0  0  1  0  0\n",
       "887378  0  1  0  0  0  0  0\n",
       "\n",
       "[887379 rows x 7 columns]"
      ]
     },
     "execution_count": 50,
     "metadata": {},
     "output_type": "execute_result"
    }
   ],
   "source": [
    "pd.get_dummies(dt_loan['grade'])"
   ]
  },
  {
   "cell_type": "code",
   "execution_count": 51,
   "metadata": {},
   "outputs": [],
   "source": [
    "# save all the dummies into a list\n",
    "\n",
    "dt_loan_dummies = [pd.get_dummies(dt_loan['grade'], prefix = 'grade', prefix_sep = ':'),\n",
    "                   pd.get_dummies(dt_loan['home_ownership'], prefix = 'home_ownership', prefix_sep = ':'),\n",
    "                   pd.get_dummies(dt_loan['purpose'], prefix = 'purpose', prefix_sep = ':'),\n",
    "                   pd.get_dummies(dt_loan['region'], prefix = 'region', prefix_sep = ':'),\n",
    "                   pd.get_dummies(dt_loan['loan_condition'], prefix = 'loan_condition', prefix_sep = ':')]"
   ]
  },
  {
   "cell_type": "code",
   "execution_count": 52,
   "metadata": {},
   "outputs": [],
   "source": [
    "# concat them\n",
    "dt_loan_dummies = pd.concat(dt_loan_dummies, axis = 1)"
   ]
  },
  {
   "cell_type": "code",
   "execution_count": 53,
   "metadata": {},
   "outputs": [
    {
     "data": {
      "text/plain": [
       "pandas.core.frame.DataFrame"
      ]
     },
     "execution_count": 53,
     "metadata": {},
     "output_type": "execute_result"
    }
   ],
   "source": [
    "type(dt_loan_dummies)"
   ]
  },
  {
   "cell_type": "code",
   "execution_count": 54,
   "metadata": {},
   "outputs": [
    {
     "data": {
      "text/plain": [
       "array(['id', 'year', 'issue_d', 'final_d', 'emp_length_int',\n",
       "       'home_ownership', 'home_ownership_cat', 'income_category',\n",
       "       'annual_inc', 'income_cat', 'loan_amount', 'term', 'term_cat',\n",
       "       'application_type', 'application_type_cat', 'purpose',\n",
       "       'purpose_cat', 'interest_payments', 'interest_payment_cat',\n",
       "       'loan_condition', 'loan_condition_cat', 'interest_rate', 'grade',\n",
       "       'grade_cat', 'dti', 'total_pymnt', 'total_rec_prncp', 'recoveries',\n",
       "       'installment', 'region', 'term_int', 'issue_d_date'], dtype=object)"
      ]
     },
     "execution_count": 54,
     "metadata": {},
     "output_type": "execute_result"
    }
   ],
   "source": [
    "dt_loan.columns.values"
   ]
  },
  {
   "cell_type": "markdown",
   "metadata": {},
   "source": [
    "### check for missing values:"
   ]
  },
  {
   "cell_type": "code",
   "execution_count": 55,
   "metadata": {},
   "outputs": [
    {
     "data": {
      "text/plain": [
       "id                      0\n",
       "year                    0\n",
       "issue_d                 0\n",
       "final_d                 0\n",
       "emp_length_int          0\n",
       "home_ownership          0\n",
       "home_ownership_cat      0\n",
       "income_category         0\n",
       "annual_inc              0\n",
       "income_cat              0\n",
       "loan_amount             0\n",
       "term                    0\n",
       "term_cat                0\n",
       "application_type        0\n",
       "application_type_cat    0\n",
       "purpose                 0\n",
       "purpose_cat             0\n",
       "interest_payments       0\n",
       "interest_payment_cat    0\n",
       "loan_condition          0\n",
       "loan_condition_cat      0\n",
       "interest_rate           0\n",
       "grade                   0\n",
       "grade_cat               0\n",
       "dti                     0\n",
       "total_pymnt             0\n",
       "total_rec_prncp         0\n",
       "recoveries              0\n",
       "installment             0\n",
       "region                  0\n",
       "term_int                0\n",
       "issue_d_date            0\n",
       "dtype: int64"
      ]
     },
     "execution_count": 55,
     "metadata": {},
     "output_type": "execute_result"
    }
   ],
   "source": [
    "# Check for all missing values\n",
    "pd.options.display.max_rows = None\n",
    "dt_loan.isnull().sum()"
   ]
  },
  {
   "cell_type": "code",
   "execution_count": 56,
   "metadata": {},
   "outputs": [],
   "source": [
    "pd.options.display.max_rows = 100"
   ]
  },
  {
   "cell_type": "markdown",
   "metadata": {},
   "source": [
    "### Data preparation"
   ]
  },
  {
   "cell_type": "code",
   "execution_count": 57,
   "metadata": {},
   "outputs": [
    {
     "data": {
      "text/plain": [
       "0         Good Loan\n",
       "1          Bad Loan\n",
       "2         Good Loan\n",
       "3         Good Loan\n",
       "4         Good Loan\n",
       "            ...    \n",
       "887374    Good Loan\n",
       "887375    Good Loan\n",
       "887376    Good Loan\n",
       "887377    Good Loan\n",
       "887378    Good Loan\n",
       "Name: loan_condition, Length: 887379, dtype: object"
      ]
     },
     "execution_count": 57,
     "metadata": {},
     "output_type": "execute_result"
    }
   ],
   "source": [
    "dt_loan['loan_condition']"
   ]
  },
  {
   "cell_type": "code",
   "execution_count": 58,
   "metadata": {},
   "outputs": [],
   "source": [
    "# convert loan_condition to 1/0\n",
    "dt_loan['good_bad'] = np.where(dt_loan['loan_condition'].isin(['Bad Loan']), 0, 1)"
   ]
  },
  {
   "cell_type": "code",
   "execution_count": 59,
   "metadata": {},
   "outputs": [
    {
     "data": {
      "text/plain": [
       "0         1\n",
       "1         0\n",
       "2         1\n",
       "3         1\n",
       "4         1\n",
       "         ..\n",
       "887374    1\n",
       "887375    1\n",
       "887376    1\n",
       "887377    1\n",
       "887378    1\n",
       "Name: good_bad, Length: 887379, dtype: int32"
      ]
     },
     "execution_count": 59,
     "metadata": {},
     "output_type": "execute_result"
    }
   ],
   "source": [
    "dt_loan['good_bad']"
   ]
  },
  {
   "cell_type": "markdown",
   "metadata": {},
   "source": [
    "### Splitting data"
   ]
  },
  {
   "cell_type": "code",
   "execution_count": 60,
   "metadata": {},
   "outputs": [],
   "source": [
    "dt_loan_inputs_train, dt_loan_inputs_test, dt_loan_targets_train, dt_loan_targets_test = sklearn.model_selection.train_test_split(dt_loan.drop('good_bad', axis = 1),\n",
    "                                                                                                          dt_loan['good_bad'], test_size = 0.2, random_state = 42)"
   ]
  },
  {
   "cell_type": "code",
   "execution_count": 61,
   "metadata": {},
   "outputs": [
    {
     "data": {
      "text/html": [
       "<div>\n",
       "<style scoped>\n",
       "    .dataframe tbody tr th:only-of-type {\n",
       "        vertical-align: middle;\n",
       "    }\n",
       "\n",
       "    .dataframe tbody tr th {\n",
       "        vertical-align: top;\n",
       "    }\n",
       "\n",
       "    .dataframe thead th {\n",
       "        text-align: right;\n",
       "    }\n",
       "</style>\n",
       "<table border=\"1\" class=\"dataframe\">\n",
       "  <thead>\n",
       "    <tr style=\"text-align: right;\">\n",
       "      <th></th>\n",
       "      <th>id</th>\n",
       "      <th>year</th>\n",
       "      <th>issue_d</th>\n",
       "      <th>final_d</th>\n",
       "      <th>emp_length_int</th>\n",
       "      <th>home_ownership</th>\n",
       "      <th>home_ownership_cat</th>\n",
       "      <th>income_category</th>\n",
       "      <th>annual_inc</th>\n",
       "      <th>income_cat</th>\n",
       "      <th>...</th>\n",
       "      <th>grade</th>\n",
       "      <th>grade_cat</th>\n",
       "      <th>dti</th>\n",
       "      <th>total_pymnt</th>\n",
       "      <th>total_rec_prncp</th>\n",
       "      <th>recoveries</th>\n",
       "      <th>installment</th>\n",
       "      <th>region</th>\n",
       "      <th>term_int</th>\n",
       "      <th>issue_d_date</th>\n",
       "    </tr>\n",
       "  </thead>\n",
       "  <tbody>\n",
       "    <tr>\n",
       "      <th>329489</th>\n",
       "      <td>24043908</td>\n",
       "      <td>2014</td>\n",
       "      <td>01/08/2014</td>\n",
       "      <td>1012016</td>\n",
       "      <td>5.0</td>\n",
       "      <td>OWN</td>\n",
       "      <td>2</td>\n",
       "      <td>Low</td>\n",
       "      <td>47000</td>\n",
       "      <td>1</td>\n",
       "      <td>...</td>\n",
       "      <td>D</td>\n",
       "      <td>4</td>\n",
       "      <td>36.21</td>\n",
       "      <td>6698.74000</td>\n",
       "      <td>3308.94</td>\n",
       "      <td>0.0</td>\n",
       "      <td>391.56</td>\n",
       "      <td>Northern-Irl</td>\n",
       "      <td>60</td>\n",
       "      <td>2014-08-01</td>\n",
       "    </tr>\n",
       "    <tr>\n",
       "      <th>510073</th>\n",
       "      <td>65677198</td>\n",
       "      <td>2015</td>\n",
       "      <td>01/11/2015</td>\n",
       "      <td>1012016</td>\n",
       "      <td>7.0</td>\n",
       "      <td>MORTGAGE</td>\n",
       "      <td>3</td>\n",
       "      <td>Low</td>\n",
       "      <td>90000</td>\n",
       "      <td>1</td>\n",
       "      <td>...</td>\n",
       "      <td>C</td>\n",
       "      <td>3</td>\n",
       "      <td>17.83</td>\n",
       "      <td>208.27000</td>\n",
       "      <td>146.09</td>\n",
       "      <td>0.0</td>\n",
       "      <td>212.71</td>\n",
       "      <td>Northern-Irl</td>\n",
       "      <td>36</td>\n",
       "      <td>2015-11-01</td>\n",
       "    </tr>\n",
       "    <tr>\n",
       "      <th>905</th>\n",
       "      <td>1058556</td>\n",
       "      <td>2011</td>\n",
       "      <td>01/12/2011</td>\n",
       "      <td>1022014</td>\n",
       "      <td>6.0</td>\n",
       "      <td>MORTGAGE</td>\n",
       "      <td>3</td>\n",
       "      <td>Low</td>\n",
       "      <td>45500</td>\n",
       "      <td>1</td>\n",
       "      <td>...</td>\n",
       "      <td>B</td>\n",
       "      <td>2</td>\n",
       "      <td>8.78</td>\n",
       "      <td>11570.11819</td>\n",
       "      <td>10000.00</td>\n",
       "      <td>0.0</td>\n",
       "      <td>325.74</td>\n",
       "      <td>leinster</td>\n",
       "      <td>36</td>\n",
       "      <td>2011-12-01</td>\n",
       "    </tr>\n",
       "    <tr>\n",
       "      <th>333036</th>\n",
       "      <td>23133441</td>\n",
       "      <td>2014</td>\n",
       "      <td>01/07/2014</td>\n",
       "      <td>1012016</td>\n",
       "      <td>8.0</td>\n",
       "      <td>MORTGAGE</td>\n",
       "      <td>3</td>\n",
       "      <td>Low</td>\n",
       "      <td>55000</td>\n",
       "      <td>1</td>\n",
       "      <td>...</td>\n",
       "      <td>B</td>\n",
       "      <td>2</td>\n",
       "      <td>8.16</td>\n",
       "      <td>2697.56000</td>\n",
       "      <td>2059.59</td>\n",
       "      <td>0.0</td>\n",
       "      <td>158.68</td>\n",
       "      <td>ulster</td>\n",
       "      <td>36</td>\n",
       "      <td>2014-07-01</td>\n",
       "    </tr>\n",
       "    <tr>\n",
       "      <th>298787</th>\n",
       "      <td>28693850</td>\n",
       "      <td>2014</td>\n",
       "      <td>01/10/2014</td>\n",
       "      <td>1102015</td>\n",
       "      <td>0.5</td>\n",
       "      <td>RENT</td>\n",
       "      <td>1</td>\n",
       "      <td>Low</td>\n",
       "      <td>34000</td>\n",
       "      <td>1</td>\n",
       "      <td>...</td>\n",
       "      <td>C</td>\n",
       "      <td>3</td>\n",
       "      <td>28.24</td>\n",
       "      <td>1819.32000</td>\n",
       "      <td>1311.00</td>\n",
       "      <td>0.0</td>\n",
       "      <td>151.61</td>\n",
       "      <td>Northern-Irl</td>\n",
       "      <td>36</td>\n",
       "      <td>2014-10-01</td>\n",
       "    </tr>\n",
       "  </tbody>\n",
       "</table>\n",
       "<p>5 rows × 32 columns</p>\n",
       "</div>"
      ],
      "text/plain": [
       "              id  year     issue_d  final_d  emp_length_int home_ownership  \\\n",
       "329489  24043908  2014  01/08/2014  1012016             5.0            OWN   \n",
       "510073  65677198  2015  01/11/2015  1012016             7.0       MORTGAGE   \n",
       "905      1058556  2011  01/12/2011  1022014             6.0       MORTGAGE   \n",
       "333036  23133441  2014  01/07/2014  1012016             8.0       MORTGAGE   \n",
       "298787  28693850  2014  01/10/2014  1102015             0.5           RENT   \n",
       "\n",
       "        home_ownership_cat income_category  annual_inc  income_cat  ...  \\\n",
       "329489                   2             Low       47000           1  ...   \n",
       "510073                   3             Low       90000           1  ...   \n",
       "905                      3             Low       45500           1  ...   \n",
       "333036                   3             Low       55000           1  ...   \n",
       "298787                   1             Low       34000           1  ...   \n",
       "\n",
       "        grade grade_cat    dti  total_pymnt  total_rec_prncp recoveries  \\\n",
       "329489      D         4  36.21   6698.74000          3308.94        0.0   \n",
       "510073      C         3  17.83    208.27000           146.09        0.0   \n",
       "905         B         2   8.78  11570.11819         10000.00        0.0   \n",
       "333036      B         2   8.16   2697.56000          2059.59        0.0   \n",
       "298787      C         3  28.24   1819.32000          1311.00        0.0   \n",
       "\n",
       "        installment        region  term_int issue_d_date  \n",
       "329489       391.56  Northern-Irl        60   2014-08-01  \n",
       "510073       212.71  Northern-Irl        36   2015-11-01  \n",
       "905          325.74      leinster        36   2011-12-01  \n",
       "333036       158.68        ulster        36   2014-07-01  \n",
       "298787       151.61  Northern-Irl        36   2014-10-01  \n",
       "\n",
       "[5 rows x 32 columns]"
      ]
     },
     "execution_count": 61,
     "metadata": {},
     "output_type": "execute_result"
    }
   ],
   "source": [
    "# check the dimensions:\n",
    "dt_loan_inputs_train.head()"
   ]
  },
  {
   "cell_type": "code",
   "execution_count": 78,
   "metadata": {},
   "outputs": [
    {
     "data": {
      "text/plain": [
       "(709903, 32)"
      ]
     },
     "execution_count": 78,
     "metadata": {},
     "output_type": "execute_result"
    }
   ],
   "source": [
    "dt_loan_inputs_train.shape"
   ]
  },
  {
   "cell_type": "code",
   "execution_count": 79,
   "metadata": {},
   "outputs": [
    {
     "data": {
      "text/plain": [
       "(709903,)"
      ]
     },
     "execution_count": 79,
     "metadata": {},
     "output_type": "execute_result"
    }
   ],
   "source": [
    "dt_loan_targets_train.shape"
   ]
  },
  {
   "cell_type": "code",
   "execution_count": 83,
   "metadata": {},
   "outputs": [
    {
     "data": {
      "text/plain": [
       "(177476, 32)"
      ]
     },
     "execution_count": 83,
     "metadata": {},
     "output_type": "execute_result"
    }
   ],
   "source": [
    "dt_loan_inputs_test.shape"
   ]
  },
  {
   "cell_type": "code",
   "execution_count": 82,
   "metadata": {},
   "outputs": [
    {
     "data": {
      "text/plain": [
       "(177476,)"
      ]
     },
     "execution_count": 82,
     "metadata": {},
     "output_type": "execute_result"
    }
   ],
   "source": [
    "dt_loan_targets_test.shape"
   ]
  },
  {
   "cell_type": "markdown",
   "metadata": {},
   "source": [
    "## Data Preprocessing: Calculating WoE and IV"
   ]
  },
  {
   "cell_type": "code",
   "execution_count": 85,
   "metadata": {},
   "outputs": [],
   "source": [
    "# declare the prepr inputs and targets for train set\n",
    "df_inputs_prepr = dt_loan_inputs_train\n",
    "df_targets_prepr = dt_loan_targets_train"
   ]
  },
  {
   "cell_type": "code",
   "execution_count": 87,
   "metadata": {},
   "outputs": [
    {
     "data": {
      "text/plain": [
       "array(['D', 'C', 'B', 'A', 'E', 'F', 'G'], dtype=object)"
      ]
     },
     "execution_count": 87,
     "metadata": {},
     "output_type": "execute_result"
    }
   ],
   "source": [
    "# Start with garde:\n",
    "df_inputs_prepr['grade'].unique()"
   ]
  },
  {
   "cell_type": "code",
   "execution_count": 114,
   "metadata": {},
   "outputs": [],
   "source": [
    "def woe_discrete(df, name, good_bad):\n",
    "    \"\"\"\n",
    "    This function calculates weight-of-evidence for a discrete variable in the data set.\n",
    "    \n",
    "    Inputs: \n",
    "        - df: data frame of either train or test sets.\n",
    "        - name: name of the discrete variable.\n",
    "        - good_bad: a column that shows the good/bad loan in the train or test sets.\n",
    "    \n",
    "    Output:\n",
    "        - a table that presents WoE and IV.\n",
    "    \"\"\"\n",
    "    # create a table that contains the variable, number of observations for that variable, and the propotion of good_bad loans\n",
    "    df = pd.concat([df[name], good_bad], axis = 1)\n",
    "    df = pd.concat([df.groupby(df.columns.values[0], as_index = False)[df.columns.values[1]].count(),\n",
    "                    df.groupby(df.columns.values[0], as_index = False)[df.columns.values[1]].mean()], axis = 1)\n",
    "    \n",
    "    # drop one repetative column\n",
    "    df = df.iloc[:, [0, 1, 3]]\n",
    "    \n",
    "    # rename the columns, (the variable, number of observation of each category, propotion of good loans)\n",
    "    df.columns = [df.columns.values[0], 'num_obs', 'prop_good']\n",
    "    \n",
    "    # add the percentage based on the number of observation for each category\n",
    "    df['prop_num_obs'] = df['num_obs'] / df['num_obs'].sum()\n",
    "    \n",
    "    # get the number of good and bad loans\n",
    "    df['num_good'] = df['prop_good'] * df['num_obs']\n",
    "    df['num_bad'] = (1 - df['prop_good']) * df['num_obs']\n",
    "    \n",
    "    # propotion of good and bad loans by number of good and bad loans\n",
    "    df['prop_num_good'] = df['num_good'] / df['num_good'].sum()\n",
    "    df['prop_num_bad'] = df['num_bad'] / df['num_bad'].sum()\n",
    "    \n",
    "    # get the weight of evidence\n",
    "    df['WoE'] = np.log(df['prop_num_good'] / df['prop_num_bad'])\n",
    "    \n",
    "    # sort by WoE and reset the index\n",
    "    df = df.sort_values(['WoE'])\n",
    "    df = df.reset_index(drop = True)\n",
    "    \n",
    "    # get the difference in propotion of good loans and WoE\n",
    "    df['diff_prop_good'] = df['prop_good'].diff().abs()\n",
    "    df['diff_WoE'] = df['WoE'].diff().abs()\n",
    "    \n",
    "    # get the IV and return the dataframe\n",
    "    df['IV'] = (df['prop_num_good'] - df['prop_num_bad']) * df['WoE']\n",
    "    df['IV'] = df['IV'].sum()\n",
    "    return df"
   ]
  },
  {
   "cell_type": "code",
   "execution_count": 115,
   "metadata": {},
   "outputs": [
    {
     "data": {
      "text/html": [
       "<div>\n",
       "<style scoped>\n",
       "    .dataframe tbody tr th:only-of-type {\n",
       "        vertical-align: middle;\n",
       "    }\n",
       "\n",
       "    .dataframe tbody tr th {\n",
       "        vertical-align: top;\n",
       "    }\n",
       "\n",
       "    .dataframe thead th {\n",
       "        text-align: right;\n",
       "    }\n",
       "</style>\n",
       "<table border=\"1\" class=\"dataframe\">\n",
       "  <thead>\n",
       "    <tr style=\"text-align: right;\">\n",
       "      <th></th>\n",
       "      <th>grade</th>\n",
       "      <th>num_obs</th>\n",
       "      <th>prop_good</th>\n",
       "      <th>prop_num_obs</th>\n",
       "      <th>num_good</th>\n",
       "      <th>num_bad</th>\n",
       "      <th>prop_num_good</th>\n",
       "      <th>prop_num_bad</th>\n",
       "      <th>WoE</th>\n",
       "      <th>diff_prop_good</th>\n",
       "      <th>diff_WoE</th>\n",
       "      <th>IV</th>\n",
       "    </tr>\n",
       "  </thead>\n",
       "  <tbody>\n",
       "    <tr>\n",
       "      <th>0</th>\n",
       "      <td>G</td>\n",
       "      <td>4385</td>\n",
       "      <td>0.771038</td>\n",
       "      <td>0.006177</td>\n",
       "      <td>3381.0</td>\n",
       "      <td>1004.0</td>\n",
       "      <td>0.005154</td>\n",
       "      <td>0.018631</td>\n",
       "      <td>-1.285076</td>\n",
       "      <td>NaN</td>\n",
       "      <td>NaN</td>\n",
       "      <td>0.328045</td>\n",
       "    </tr>\n",
       "    <tr>\n",
       "      <th>1</th>\n",
       "      <td>F</td>\n",
       "      <td>18399</td>\n",
       "      <td>0.810968</td>\n",
       "      <td>0.025918</td>\n",
       "      <td>14921.0</td>\n",
       "      <td>3478.0</td>\n",
       "      <td>0.022745</td>\n",
       "      <td>0.064540</td>\n",
       "      <td>-1.042944</td>\n",
       "      <td>0.039930</td>\n",
       "      <td>0.242133</td>\n",
       "      <td>0.328045</td>\n",
       "    </tr>\n",
       "    <tr>\n",
       "      <th>2</th>\n",
       "      <td>E</td>\n",
       "      <td>56544</td>\n",
       "      <td>0.861099</td>\n",
       "      <td>0.079650</td>\n",
       "      <td>48690.0</td>\n",
       "      <td>7854.0</td>\n",
       "      <td>0.074221</td>\n",
       "      <td>0.145744</td>\n",
       "      <td>-0.674805</td>\n",
       "      <td>0.050131</td>\n",
       "      <td>0.368139</td>\n",
       "      <td>0.328045</td>\n",
       "    </tr>\n",
       "    <tr>\n",
       "      <th>3</th>\n",
       "      <td>D</td>\n",
       "      <td>111637</td>\n",
       "      <td>0.886149</td>\n",
       "      <td>0.157257</td>\n",
       "      <td>98927.0</td>\n",
       "      <td>12710.0</td>\n",
       "      <td>0.150800</td>\n",
       "      <td>0.235855</td>\n",
       "      <td>-0.447263</td>\n",
       "      <td>0.025050</td>\n",
       "      <td>0.227542</td>\n",
       "      <td>0.328045</td>\n",
       "    </tr>\n",
       "    <tr>\n",
       "      <th>4</th>\n",
       "      <td>C</td>\n",
       "      <td>196689</td>\n",
       "      <td>0.922634</td>\n",
       "      <td>0.277065</td>\n",
       "      <td>181472.0</td>\n",
       "      <td>15217.0</td>\n",
       "      <td>0.276628</td>\n",
       "      <td>0.282377</td>\n",
       "      <td>-0.020568</td>\n",
       "      <td>0.036485</td>\n",
       "      <td>0.426695</td>\n",
       "      <td>0.328045</td>\n",
       "    </tr>\n",
       "    <tr>\n",
       "      <th>5</th>\n",
       "      <td>B</td>\n",
       "      <td>203700</td>\n",
       "      <td>0.947521</td>\n",
       "      <td>0.286941</td>\n",
       "      <td>193010.0</td>\n",
       "      <td>10690.0</td>\n",
       "      <td>0.294216</td>\n",
       "      <td>0.198371</td>\n",
       "      <td>0.394178</td>\n",
       "      <td>0.024887</td>\n",
       "      <td>0.414745</td>\n",
       "      <td>0.328045</td>\n",
       "    </tr>\n",
       "    <tr>\n",
       "      <th>6</th>\n",
       "      <td>A</td>\n",
       "      <td>118549</td>\n",
       "      <td>0.975234</td>\n",
       "      <td>0.166993</td>\n",
       "      <td>115613.0</td>\n",
       "      <td>2936.0</td>\n",
       "      <td>0.176236</td>\n",
       "      <td>0.054482</td>\n",
       "      <td>1.173945</td>\n",
       "      <td>0.027713</td>\n",
       "      <td>0.779767</td>\n",
       "      <td>0.328045</td>\n",
       "    </tr>\n",
       "  </tbody>\n",
       "</table>\n",
       "</div>"
      ],
      "text/plain": [
       "  grade  num_obs  prop_good  prop_num_obs  num_good  num_bad  prop_num_good  \\\n",
       "0     G     4385   0.771038      0.006177    3381.0   1004.0       0.005154   \n",
       "1     F    18399   0.810968      0.025918   14921.0   3478.0       0.022745   \n",
       "2     E    56544   0.861099      0.079650   48690.0   7854.0       0.074221   \n",
       "3     D   111637   0.886149      0.157257   98927.0  12710.0       0.150800   \n",
       "4     C   196689   0.922634      0.277065  181472.0  15217.0       0.276628   \n",
       "5     B   203700   0.947521      0.286941  193010.0  10690.0       0.294216   \n",
       "6     A   118549   0.975234      0.166993  115613.0   2936.0       0.176236   \n",
       "\n",
       "   prop_num_bad       WoE  diff_prop_good  diff_WoE        IV  \n",
       "0      0.018631 -1.285076             NaN       NaN  0.328045  \n",
       "1      0.064540 -1.042944        0.039930  0.242133  0.328045  \n",
       "2      0.145744 -0.674805        0.050131  0.368139  0.328045  \n",
       "3      0.235855 -0.447263        0.025050  0.227542  0.328045  \n",
       "4      0.282377 -0.020568        0.036485  0.426695  0.328045  \n",
       "5      0.198371  0.394178        0.024887  0.414745  0.328045  \n",
       "6      0.054482  1.173945        0.027713  0.779767  0.328045  "
      ]
     },
     "execution_count": 115,
     "metadata": {},
     "output_type": "execute_result"
    }
   ],
   "source": [
    "# comute the table for variable 'grade'\n",
    "df_temp = woe_discrete(df_inputs_prepr, 'grade', df_targets_prepr)\n",
    "df_temp"
   ]
  },
  {
   "cell_type": "markdown",
   "metadata": {},
   "source": [
    "## Data Preprocessing: Vizualize WoE"
   ]
  },
  {
   "cell_type": "code",
   "execution_count": 116,
   "metadata": {},
   "outputs": [],
   "source": [
    "import matplotlib.pyplot as plt\n",
    "import seaborn as sns\n",
    "sns.set()"
   ]
  },
  {
   "cell_type": "code",
   "execution_count": 121,
   "metadata": {},
   "outputs": [],
   "source": [
    "def plot_woe(df_WoE, rotation_axis = 0):\n",
    "    \"\"\"\n",
    "    This function plots the WoE for each category of the discrete variable\n",
    "    \n",
    "    Inputs:\n",
    "        - df_WoE: the dataframe that was obtain by WoE function\n",
    "        - rotation_axis is the angle that the axis is shown. This is handy when the names of categories is long\n",
    "        \n",
    "    Output:\n",
    "     - plot of WoE by category\n",
    "    \"\"\"\n",
    "    # x axis is the name of each category\n",
    "    x = np.array(df_WoE.iloc[:, 0].apply(str))\n",
    "    \n",
    "    # select WoE as y\n",
    "    y = df_WoE['WoE']\n",
    "    \n",
    "    # set the figure size\n",
    "    plt.figure(figsize = (20,10))\n",
    "    \n",
    "    # plot x and y\n",
    "    plt.plot(x, y, marker = 'o', linestyle = '--', color = 'k')\n",
    "    \n",
    "    # label the axis\n",
    "    plt.xlabel(df_WoE.columns[0])\n",
    "    plt.ylabel('Weight of Evidence')\n",
    "    \n",
    "    # title\n",
    "    plt.title(str('Weight of Evidence by ' + df_WoE.columns[0]))\n",
    "    \n",
    "    # rotate x axis\n",
    "    plt.xticks(rotation = rotation_axis)"
   ]
  },
  {
   "cell_type": "code",
   "execution_count": 122,
   "metadata": {},
   "outputs": [
    {
     "data": {
      "image/png": "[encoded data removed]",
      "text/plain": [
       "<Figure size 1440x720 with 1 Axes>"
      ]
     },
     "metadata": {},
     "output_type": "display_data"
    }
   ],
   "source": [
    "plot_woe(df_temp)"
   ]
  },
  {
   "cell_type": "code",
   "execution_count": null,
   "metadata": {},
   "outputs": [],
   "source": []
  }
 ],
 "metadata": {
  "kernelspec": {
   "display_name": "Python 3",
   "language": "python",
   "name": "python3"
  },
  "language_info": {
   "codemirror_mode": {
    "name": "ipython",
    "version": 3
   },
   "file_extension": ".py",
   "mimetype": "text/x-python",
   "name": "python",
   "nbconvert_exporter": "python",
   "pygments_lexer": "ipython3",
   "version": "3.7.6"
  }
 },
 "nbformat": 4,
 "nbformat_minor": 4
}
